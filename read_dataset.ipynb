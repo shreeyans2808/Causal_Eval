{
 "cells": [
  {
   "cell_type": "code",
   "execution_count": 1,
   "id": "fdcf8763",
   "metadata": {},
   "outputs": [],
   "source": [
    "import pandas as pd"
   ]
  },
  {
   "cell_type": "code",
   "execution_count": 2,
   "id": "ea823998",
   "metadata": {},
   "outputs": [],
   "source": [
    "train_data = pd.read_parquet(\"Baselines/Data/Train/deepseek_5k_RP.parquet\")"
   ]
  },
  {
   "cell_type": "code",
   "execution_count": 3,
   "id": "d1d7e972",
   "metadata": {},
   "outputs": [
    {
     "data": {
      "text/html": [
       "<div>\n",
       "<style scoped>\n",
       "    .dataframe tbody tr th:only-of-type {\n",
       "        vertical-align: middle;\n",
       "    }\n",
       "\n",
       "    .dataframe tbody tr th {\n",
       "        vertical-align: top;\n",
       "    }\n",
       "\n",
       "    .dataframe thead th {\n",
       "        text-align: right;\n",
       "    }\n",
       "</style>\n",
       "<table border=\"1\" class=\"dataframe\">\n",
       "  <thead>\n",
       "    <tr style=\"text-align: right;\">\n",
       "      <th></th>\n",
       "      <th>Question</th>\n",
       "      <th>Complex_CoT</th>\n",
       "      <th>Response</th>\n",
       "      <th>Depth</th>\n",
       "    </tr>\n",
       "  </thead>\n",
       "  <tbody>\n",
       "    <tr>\n",
       "      <th>0</th>\n",
       "      <td>Facts:  Alice is different [PERIOD] Alice is b...</td>\n",
       "      <td>Proof chain:\\n   shy ∧ vivacious ⇒ aggressive\\n</td>\n",
       "      <td>1</td>\n",
       "      <td>1</td>\n",
       "    </tr>\n",
       "    <tr>\n",
       "      <th>1</th>\n",
       "      <td>Facts:  Alice is supportive [PERIOD] Alice is ...</td>\n",
       "      <td>Proof chain:\\n   No rule concludes “average.”\\n</td>\n",
       "      <td>0</td>\n",
       "      <td>1</td>\n",
       "    </tr>\n",
       "    <tr>\n",
       "      <th>2</th>\n",
       "      <td>Facts:  Alice is fancy [PERIOD] Alice is wande...</td>\n",
       "      <td>Proof chain:\\n   No rule concludes “lonely.”\\n</td>\n",
       "      <td>0</td>\n",
       "      <td>1</td>\n",
       "    </tr>\n",
       "    <tr>\n",
       "      <th>3</th>\n",
       "      <td>Facts:  Alice is talkative [PERIOD] Alice is e...</td>\n",
       "      <td>Proof chain:\\n</td>\n",
       "      <td>1</td>\n",
       "      <td>0</td>\n",
       "    </tr>\n",
       "    <tr>\n",
       "      <th>4</th>\n",
       "      <td>Facts:  Alice is elated [PERIOD] Alice is bad-...</td>\n",
       "      <td>Proof chain:\\n</td>\n",
       "      <td>1</td>\n",
       "      <td>0</td>\n",
       "    </tr>\n",
       "  </tbody>\n",
       "</table>\n",
       "</div>"
      ],
      "text/plain": [
       "                                            Question  \\\n",
       "0  Facts:  Alice is different [PERIOD] Alice is b...   \n",
       "1  Facts:  Alice is supportive [PERIOD] Alice is ...   \n",
       "2  Facts:  Alice is fancy [PERIOD] Alice is wande...   \n",
       "3  Facts:  Alice is talkative [PERIOD] Alice is e...   \n",
       "4  Facts:  Alice is elated [PERIOD] Alice is bad-...   \n",
       "\n",
       "                                       Complex_CoT  Response  Depth  \n",
       "0  Proof chain:\\n   shy ∧ vivacious ⇒ aggressive\\n         1      1  \n",
       "1  Proof chain:\\n   No rule concludes “average.”\\n         0      1  \n",
       "2   Proof chain:\\n   No rule concludes “lonely.”\\n         0      1  \n",
       "3                                   Proof chain:\\n         1      0  \n",
       "4                                   Proof chain:\\n         1      0  "
      ]
     },
     "execution_count": 3,
     "metadata": {},
     "output_type": "execute_result"
    }
   ],
   "source": [
    "train_data.head()"
   ]
  },
  {
   "cell_type": "code",
   "execution_count": null,
   "id": "aa385186",
   "metadata": {},
   "outputs": [],
   "source": []
  },
  {
   "cell_type": "code",
   "execution_count": 4,
   "id": "72eeaae1",
   "metadata": {},
   "outputs": [
    {
     "data": {
      "text/html": [
       "<div>\n",
       "<style scoped>\n",
       "    .dataframe tbody tr th:only-of-type {\n",
       "        vertical-align: middle;\n",
       "    }\n",
       "\n",
       "    .dataframe tbody tr th {\n",
       "        vertical-align: top;\n",
       "    }\n",
       "\n",
       "    .dataframe thead th {\n",
       "        text-align: right;\n",
       "    }\n",
       "</style>\n",
       "<table border=\"1\" class=\"dataframe\">\n",
       "  <thead>\n",
       "    <tr style=\"text-align: right;\">\n",
       "      <th></th>\n",
       "      <th>Question</th>\n",
       "      <th>Complex_CoT</th>\n",
       "      <th>Response</th>\n",
       "      <th>Depth</th>\n",
       "    </tr>\n",
       "  </thead>\n",
       "  <tbody>\n",
       "    <tr>\n",
       "      <th>0</th>\n",
       "      <td>Facts: \\nRules:\\ncruel [IMPLY] frail [PERIOD]\\...</td>\n",
       "      <td>Proof chain:\\n   Cannot apply rule “frail ∧ ze...</td>\n",
       "      <td>0</td>\n",
       "      <td>6</td>\n",
       "    </tr>\n",
       "    <tr>\n",
       "      <th>1</th>\n",
       "      <td>Facts:  Batman is weary [PERIOD] Batman is gle...</td>\n",
       "      <td>Proof chain:\\n</td>\n",
       "      <td>1</td>\n",
       "      <td>0</td>\n",
       "    </tr>\n",
       "    <tr>\n",
       "      <th>2</th>\n",
       "      <td>Facts:  Batman is fragile [PERIOD]\\nRules:\\ngi...</td>\n",
       "      <td>Proof chain:\\n   Cannot apply rule “gifted ∧ p...</td>\n",
       "      <td>0</td>\n",
       "      <td>4</td>\n",
       "    </tr>\n",
       "    <tr>\n",
       "      <th>3</th>\n",
       "      <td>Facts:  Batman is inexpensive [PERIOD] Batman ...</td>\n",
       "      <td>Proof chain:\\n   Cannot apply rule “supportive...</td>\n",
       "      <td>0</td>\n",
       "      <td>5</td>\n",
       "    </tr>\n",
       "    <tr>\n",
       "      <th>4</th>\n",
       "      <td>Facts:  Batman is easy [PERIOD] Batman is mudd...</td>\n",
       "      <td>Proof chain:\\n   agreeable ∧ attractive ⇒ stup...</td>\n",
       "      <td>1</td>\n",
       "      <td>8</td>\n",
       "    </tr>\n",
       "  </tbody>\n",
       "</table>\n",
       "</div>"
      ],
      "text/plain": [
       "                                            Question  \\\n",
       "0  Facts: \\nRules:\\ncruel [IMPLY] frail [PERIOD]\\...   \n",
       "1  Facts:  Batman is weary [PERIOD] Batman is gle...   \n",
       "2  Facts:  Batman is fragile [PERIOD]\\nRules:\\ngi...   \n",
       "3  Facts:  Batman is inexpensive [PERIOD] Batman ...   \n",
       "4  Facts:  Batman is easy [PERIOD] Batman is mudd...   \n",
       "\n",
       "                                         Complex_CoT  Response  Depth  \n",
       "0  Proof chain:\\n   Cannot apply rule “frail ∧ ze...         0      6  \n",
       "1                                     Proof chain:\\n         1      0  \n",
       "2  Proof chain:\\n   Cannot apply rule “gifted ∧ p...         0      4  \n",
       "3  Proof chain:\\n   Cannot apply rule “supportive...         0      5  \n",
       "4  Proof chain:\\n   agreeable ∧ attractive ⇒ stup...         1      8  "
      ]
     },
     "execution_count": 4,
     "metadata": {},
     "output_type": "execute_result"
    }
   ],
   "source": [
    "test_data = pd.read_parquet(\"Baselines/Data/Test/deepseek_2k_RP_test.parquet\")\n",
    "test_data.head()"
   ]
  }
 ],
 "metadata": {
  "kernelspec": {
   "display_name": "Python 3",
   "language": "python",
   "name": "python3"
  },
  "language_info": {
   "codemirror_mode": {
    "name": "ipython",
    "version": 3
   },
   "file_extension": ".py",
   "mimetype": "text/x-python",
   "name": "python",
   "nbconvert_exporter": "python",
   "pygments_lexer": "ipython3",
   "version": "3.12.3"
  }
 },
 "nbformat": 4,
 "nbformat_minor": 5
}
